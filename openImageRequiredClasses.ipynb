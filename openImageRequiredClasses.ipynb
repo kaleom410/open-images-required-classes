{
 "cells": [
  {
   "cell_type": "code",
   "execution_count": null,
   "metadata": {},
   "outputs": [],
   "source": [
    "import pandas as pd\n",
    "import numpy as np\n",
    "\n",
    "path = 'O:\\\\downloads\\\\image_ids_and_rotation.csv'\n",
    "file = pd.read_csv(path)\n"
   ]
  },
  {
   "cell_type": "code",
   "execution_count": 151,
   "metadata": {},
   "outputs": [],
   "source": [
    "# file2 = file[(file['IsGroupOf']==0)]\n",
    "file.head"
   ]
  },
  {
   "cell_type": "code",
   "execution_count": 152,
   "metadata": {},
   "outputs": [
    {
     "name": "stdout",
     "output_type": "stream",
     "text": [
      "(28006, 13)\n"
     ]
    }
   ],
   "source": [
    "file3 = file[(file['LabelName']=='/m/01g317') | (file['LabelName']=='/m/0199g') | (file['LabelName']=='/m/0k4j')\n",
    "             | (file['LabelName']=='/m/04_sv') | (file['LabelName']=='/m/01bjv') | (file['LabelName']=='/m/07r04')\n",
    "             | (file['LabelName']=='/m/015qff') | (file['LabelName']=='/m/01940j') | (file['LabelName']=='/m/080hkjn')\n",
    "             | (file['LabelName']=='/m/01s55n')]\n",
    "print(file3.shape)"
   ]
  },
  {
   "cell_type": "code",
   "execution_count": 153,
   "metadata": {},
   "outputs": [
    {
     "name": "stdout",
     "output_type": "stream",
     "text": [
      "(25039, 13)\n"
     ]
    },
    {
     "name": "stderr",
     "output_type": "stream",
     "text": [
      "c:\\users\\_kale\\pycharmprojects\\first\\venv\\lib\\site-packages\\ipykernel_launcher.py:1: UserWarning: Boolean Series key will be reindexed to match DataFrame index.\n",
      "  \"\"\"Entry point for launching an IPython kernel.\n"
     ]
    }
   ],
   "source": [
    "\n",
    "file4 = file3[(file['IsGroupOf']==0)]\n",
    "\n",
    "################# person filter, isoccluded\n",
    "################# distinct list of image id\n",
    "################# download by list\n",
    "\n",
    "# file4.to_csv(\"O:\\daaaCEMTREX\\openImgCSv\\\\val_csv.csv\",index = False)\n",
    "print(file4.shape)\n",
    "\n"
   ]
  },
  {
   "cell_type": "code",
   "execution_count": 140,
   "metadata": {},
   "outputs": [],
   "source": [
    "# print(file3)\n",
    "# file3 = file3[[\"ImageID\", \"LabelName\" ,\"XMin\",\"XMax\",\"YMin\",\"YMax\"]]\n",
    "# file3.to_csv(\"O:\\daaaCEMTREX\\openImgCSv\\\\val2_csv.csv\")\n",
    "# is_person =  file2.concat([(file['LabelName']=='/m/01s55n'),(file['LabelName']=='/m/01g0g')])\n",
    "# print(is_person)\n",
    "\n",
    "# file_person = file[is_person]\n",
    "# print(file_person.shape)\n",
    "# print(file.head(100000000))\n",
    "# df = pd.read_excel(\"O:\\downloads\\\\validation-annotations-bbox.xlsx\")"
   ]
  },
  {
   "cell_type": "code",
   "execution_count": 154,
   "metadata": {},
   "outputs": [
    {
     "data": {
      "text/plain": [
       "(5778, 13)"
      ]
     },
     "execution_count": 154,
     "metadata": {},
     "output_type": "execute_result"
    }
   ],
   "source": [
    "\n",
    "file5 = file4[(file4['LabelName']=='/m/01g317')].drop_duplicates(subset=['ImageID'], keep='last')\n",
    "file5.shape\n",
    "# imlist = [file5['ImageID']]\n",
    "# imlist\n",
    "# file6 = file5.drop_duplicates(subset=\"LabelName\")\n",
    "# file6.shape\n",
    "# file6 = file5.drop_duplicates(subset=['LabelName'], keep='last')\n",
    "# file6.shape\n",
    "# imlist = pd.DataFrame(imlist)\n"
   ]
  },
  {
   "cell_type": "code",
   "execution_count": 155,
   "metadata": {},
   "outputs": [
    {
     "data": {
      "text/plain": [
       "array(['0007cebe1b2ba653', '000a045a0715d64d', '000a1249af2bc5f0', ...,\n",
       "       'ffe33b6deaded2d5', 'ffeba8a4d2029eac', 'ffff21932da3ed01'],\n",
       "      dtype=object)"
      ]
     },
     "execution_count": 155,
     "metadata": {},
     "output_type": "execute_result"
    }
   ],
   "source": [
    "\n",
    "unique_arr = file5[\"ImageID\"].to_numpy()\n",
    "\n",
    "unique_arr\n"
   ]
  },
  {
   "cell_type": "code",
   "execution_count": 156,
   "metadata": {},
   "outputs": [
    {
     "data": {
      "text/plain": [
       "(16242, 13)"
      ]
     },
     "execution_count": 156,
     "metadata": {},
     "output_type": "execute_result"
    }
   ],
   "source": [
    "file6 = file4[file4['ImageID'].isin(unique_arr)]\n",
    "file6.shape\n",
    "\n"
   ]
  },
  {
   "cell_type": "code",
   "execution_count": 144,
   "metadata": {},
   "outputs": [],
   "source": [
    "##################CONTAINING PERSON\n",
    "# file6.to_csv(\"O:\\\\daaaCEMTREX\\\\openImgCSv\\\\v6\\\\filtered\\\\val_csv_containing_person_occ_mix.csv\")\n"
   ]
  },
  {
   "cell_type": "code",
   "execution_count": 145,
   "metadata": {},
   "outputs": [
    {
     "data": {
      "text/plain": [
       "(274079, 21)"
      ]
     },
     "execution_count": 145,
     "metadata": {},
     "output_type": "execute_result"
    }
   ],
   "source": [
    "#####################REST CLASS\n",
    "file7 = file4\n",
    "indexn = file7[file7['ImageID'].isin(unique_arr) ].index\n",
    "file7.drop(indexn , inplace = True)\n",
    "file7.shape\n",
    "# file7.to_csv(\"O:\\\\daaaCEMTREX\\\\openImgCSv\\\\v6\\\\filtered\\\\val_csv_rest_classes.csv\")"
   ]
  },
  {
   "cell_type": "code",
   "execution_count": 146,
   "metadata": {},
   "outputs": [
    {
     "data": {
      "text/plain": [
       "(167112, 21)"
      ]
     },
     "execution_count": 146,
     "metadata": {},
     "output_type": "execute_result"
    }
   ],
   "source": [
    "############## occlusion remove\n",
    "# idx = np.where((file6['IsOccluded']==0) & (file6['LabelName']=='/m/01g317'))/\n",
    "file8 = file6[(file6['IsOccluded']==1) & (file6['LabelName']=='/m/01g317')].drop_duplicates(subset=['ImageID'], keep='last')\n",
    "file8.shape"
   ]
  },
  {
   "cell_type": "code",
   "execution_count": 147,
   "metadata": {},
   "outputs": [
    {
     "data": {
      "text/plain": [
       "167112"
      ]
     },
     "execution_count": 147,
     "metadata": {},
     "output_type": "execute_result"
    }
   ],
   "source": [
    "unique_brr = file8[\"ImageID\"].to_numpy()\n",
    "\n",
    "len(unique_brr)"
   ]
  },
  {
   "cell_type": "code",
   "execution_count": 137,
   "metadata": {},
   "outputs": [
    {
     "data": {
      "text/plain": [
       "(819323, 21)"
      ]
     },
     "execution_count": 137,
     "metadata": {},
     "output_type": "execute_result"
    }
   ],
   "source": [
    "#######################OCCLUSION = 1\n",
    "file9 = file6[file6['ImageID'].isin(unique_brr)]\n",
    "file9.shape\n",
    "# file9.to_csv(\"O:\\\\daaaCEMTREX\\\\openImgCSv\\\\v6\\\\filtered\\\\train_csv_person_occ_present_classes.csv\")"
   ]
  },
  {
   "cell_type": "code",
   "execution_count": 148,
   "metadata": {},
   "outputs": [
    {
     "data": {
      "text/plain": [
       "(202474, 21)"
      ]
     },
     "execution_count": 148,
     "metadata": {},
     "output_type": "execute_result"
    }
   ],
   "source": [
    "##############OCCLUSION = 0\n",
    "\n",
    "file10 = file6\n",
    "indexn = file10[file10['ImageID'].isin(unique_brr) ].index\n",
    "file10.drop(indexn , inplace = True)\n",
    "file10.shape\n",
    "# file10.to_csv(\"O:\\\\daaaCEMTREX\\\\openImgCSv\\\\v6\\\\filtered\\\\train_csv_occ_removed_classes.csv\")"
   ]
  },
  {
   "cell_type": "code",
   "execution_count": 149,
   "metadata": {},
   "outputs": [],
   "source": [
    "file11 = file10\n",
    "file11 = file10[\"ImageID\"].drop_duplicates()\n",
    "len(file11)\n",
    "file11.to_csv(\"O:\\\\daaaCEMTREX\\\\openImgCSv\\\\v6\\\\filtered\\\\list\\\\train_occ_absent_list.csv\")\n"
   ]
  },
  {
   "cell_type": "code",
   "execution_count": null,
   "metadata": {},
   "outputs": [],
   "source": []
  }
 ],
 "metadata": {
  "kernelspec": {
   "display_name": "Python 3",
   "language": "python",
   "name": "python3"
  },
  "language_info": {
   "codemirror_mode": {
    "name": "ipython",
    "version": 3
   },
   "file_extension": ".py",
   "mimetype": "text/x-python",
   "name": "python",
   "nbconvert_exporter": "python",
   "pygments_lexer": "ipython3",
   "version": "3.7.8"
  }
 },
 "nbformat": 4,
 "nbformat_minor": 4
}
